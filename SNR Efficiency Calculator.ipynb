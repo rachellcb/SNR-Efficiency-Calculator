{
 "cells": [
  {
   "cell_type": "markdown",
   "id": "e681d6db",
   "metadata": {},
   "source": [
    "# SNR efficiency calculator\n",
    "\n",
    "Use this tool to find the SNR efficiency for a given TE, TR, T1 and T2.\n",
    "\n",
    "This could be used for example to compare the relative SNR efficiency of different scanning parameters. The SNR efficiency index generated here is proportional to SNR per unit time and is applicable for spin echo MRI sequences. \n",
    "\n",
    "Enter your own values for TE, TR, T1 and T2 in the cell below and run (ctrl + enter).\n"
   ]
  },
  {
   "cell_type": "code",
   "execution_count": 12,
   "id": "d5693bef",
   "metadata": {},
   "outputs": [
    {
     "name": "stdout",
     "output_type": "stream",
     "text": [
      "\n",
      " For TR = 250, TE = 25, T1 = 128, T2 = 26.4: SNR efficiency index = 0.0203\n"
     ]
    }
   ],
   "source": [
    "# Input values of TE, TR, T1, and T2 here:\n",
    "te = 25\n",
    "tr = 250\n",
    "t1 = 128\n",
    "t2 = 26.4\n",
    "\n",
    "# Import python packages\n",
    "import numpy as np\n",
    "\n",
    "# Define SNR efficiency function\n",
    "def snreff_spin_echo(tr, te, t1, t2):\n",
    "    '''SNR efficiency scaling factor for spin echo'''\n",
    "    snr = np.exp(-te / t2) * (1 - np.exp(-tr / t1) * (2 * np.exp(te / (2 * t1)) - 1))\n",
    "    snr_eff = snr / np.sqrt(tr)\n",
    "    return snr_eff\n",
    "\n",
    "# Calculate and print result\n",
    "snr_eff = snreff_spin_echo(tr, te, t1, t2)\n",
    "\n",
    "print('\\n', f'For TR = {tr}, TE = {te}, T1 = {t1}, T2 = {t2}: SNR efficiency index = {snr_eff:.4f}')"
   ]
  }
 ],
 "metadata": {
  "kernelspec": {
   "display_name": "Python 3 (ipykernel)",
   "language": "python",
   "name": "python3"
  },
  "language_info": {
   "codemirror_mode": {
    "name": "ipython",
    "version": 3
   },
   "file_extension": ".py",
   "mimetype": "text/x-python",
   "name": "python",
   "nbconvert_exporter": "python",
   "pygments_lexer": "ipython3",
   "version": "3.7.1"
  }
 },
 "nbformat": 4,
 "nbformat_minor": 5
}
