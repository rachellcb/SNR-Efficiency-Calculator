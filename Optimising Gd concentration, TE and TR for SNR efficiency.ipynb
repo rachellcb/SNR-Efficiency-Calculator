{
 "cells": [
  {
   "cell_type": "markdown",
   "id": "69e0d174",
   "metadata": {},
   "source": [
    "# Optimising Gd concentration, TE and TR for SNR efficiency\n",
    "\n",
    "Use this tool to find the optimum TR and Gd concentration for a range of TE values.\n",
    "\n",
    "Use the first two cells to define the range of TE, TR and Gd parameters that you want to model, and your relaxometry data at different concentrations of Gd, then run all cells to see the result. To run a cell, select it and type ctrl + enter.\n",
    "\n",
    "**Reference:** Barrett, RLC, Cash, D, Simmons, C, et al. Tissue Optimisation Strategies for High Quality Ex Vivo Diffusion Imaging. NMR in Biomedicine. 2022;e4866. https://doi.org/10.1002/nbm.4866\n",
    "\n",
    "## 1. Enter data and parameters\n",
    "Edit the values for `te`, `tr`, `gd`, `gd_data`, `t1_data` and `t2_data` in the cells below. \n",
    "\n",
    "First enter the range values of TE, TR and Gd concentration that you want to model (min, max):"
   ]
  },
  {
   "cell_type": "code",
   "execution_count": null,
   "id": "c5abc330",
   "metadata": {},
   "outputs": [],
   "source": [
    "# TE and TR in ms \n",
    "te = (15, 25)\n",
    "tr = (50, 100)\n",
    "\n",
    "# Gd concentration in mM\n",
    "gd = (0, 8)"
   ]
  },
  {
   "cell_type": "markdown",
   "id": "44ac01be",
   "metadata": {},
   "source": [
    "Now enter your measurements of T1 and T2 at different concentrations of Gd:"
   ]
  },
  {
   "cell_type": "code",
   "execution_count": null,
   "id": "11e7067b",
   "metadata": {},
   "outputs": [],
   "source": [
    "# Concentration of contrast agent in mM\n",
    "gd_data = [0, 4, 8]\n",
    "# Corresponding values of T1 and T2 in ms\n",
    "t1_data = [1000, 80, 50]\n",
    "t2_data = [45, 21, 14]"
   ]
  },
  {
   "cell_type": "markdown",
   "id": "dcffd035",
   "metadata": {},
   "source": [
    "## 2. Run SNR efficiency model\n",
    "Run the cell below to get the optimum TR and Gd concentration for the range of TE values defined above.\n",
    "\n",
    "*Note:* If needed you can change the precision by altering the parameters `gd_step_size`, `te_step_size`, and `tr_step_size` in the code below. "
   ]
  },
  {
   "cell_type": "code",
   "execution_count": null,
   "id": "3afef07c",
   "metadata": {},
   "outputs": [],
   "source": [
    "# Import python packages\n",
    "\n",
    "import numpy as np\n",
    "from scipy.optimize import curve_fit\n",
    "\n",
    "### First let's fit gd_data, t1_data and t2_data to the relaxivity vs contrast agent concentration function ###\n",
    "\n",
    "# Define relaxivity vs Gd concentration function\n",
    "\n",
    "def fun(gd, r_0, r_i):\n",
    "    return r_0 + gd*r_i\n",
    "\n",
    "# Curve fit for T1 data\n",
    "\n",
    "# Define xdata and ydata\n",
    "xdata = gd_data\n",
    "# Convert T1 to R1 values\n",
    "ydata = 1/np.array(t1_data)\n",
    "\n",
    "# Curve fit for R1 parameters\n",
    "r1_params, pcov = curve_fit(fun, xdata, ydata)\n",
    "\n",
    "# Curve fit for T2 data\n",
    "\n",
    "# Define xdata and ydata\n",
    "xdata = gd_data\n",
    "# Convert T2 to R2 values\n",
    "ydata = 1/np.array(t2_data)\n",
    "\n",
    "# Curve fit for R2 parameters\n",
    "r2_params, pcov = curve_fit(fun, xdata, ydata)\n",
    "\n",
    "# Convert curve parameters from relaxivity back to T1 and T2\n",
    "t1_params = 1/r1_params\n",
    "t2_params = 1/r2_params\n",
    "\n",
    "### Now let's use these parameters to estimate T1 and T2 for the range of Gd concentration(s), TE and TR values given in gd, te, tr ###\n",
    "\n",
    "# Rewrite relaxivity vs Gd concentration function in terms of T1 and T2\n",
    "def fun_t(gd, t_0, t_i):\n",
    "    return t_0 * t_i / (t_i + t_0 * gd)\n",
    "\n",
    "# Define SNR efficiency function\n",
    "def snreff_spin_echo(tr, te, t1, t2):\n",
    "    '''SNR efficiency scaling factor for spin echo'''\n",
    "    return (np.exp(-te / t2) * (1 - np.exp(-tr / t1) * (2 * np.exp(te / (2 * t1)) - 1))) / np.sqrt(tr)\n",
    "\n",
    "# Define Gd concentrations\n",
    "gd_step_size = 0.1\n",
    "gd_vals = np.arange(gd[0], gd[1] + 1, gd_step_size)\n",
    "\n",
    "# Define TE values concentrations\n",
    "te_step_size = 1\n",
    "te_vals = np.arange(te[0], te[1]+1, te_step_size)\n",
    "\n",
    "# Define TR values concentrations\n",
    "tr_step_size = 1\n",
    "tr_vals = np.arange(tr[0], tr[1]+1, tr_step_size)\n",
    "\n",
    "# Get T1 values\n",
    "t_0, t_i = t1_params\n",
    "t1_vals = fun_t(gd_vals, t_0, t_i)\n",
    "\n",
    "# Get T2 values\n",
    "t_0, t_i = t2_params\n",
    "t2_vals = fun_t(gd_vals, t_0, t_i)\n",
    "\n",
    "# Get SNR efficiency\n",
    "snreff = np.zeros([len(te_vals), len(tr_vals), len(gd_vals)])\n",
    "for i, TE in enumerate(te_vals):\n",
    "    for j, (T1, T2) in enumerate(zip(t1_vals, t2_vals)):\n",
    "        snreff[i, :, j] = snreff_spin_echo(tr_vals, TE, T1, T2)\n",
    "\n",
    "# Find the maximum SNR efficiency accross Gd values\n",
    "snreff_best_gd = np.max(snreff, axis=2)\n",
    "\n",
    "# Find the Gd values that give maximum SNR efficiency\n",
    "best_gd_index = np.argmax(snreff, axis=2).flatten()\n",
    "best_gd = [gd_vals[i] for i in best_gd_index]\n",
    "best_gd = np.reshape(best_gd, snreff_best_gd.shape)\n",
    "\n",
    "# Print results\n",
    "for i, TE in enumerate(te_vals):\n",
    "    j = np.argmax(snreff_best_gd[i,:])\n",
    "    TR = tr_vals[j]\n",
    "    Gd = best_gd[i, j]\n",
    "    print(f'For TE = {TE}, best TR = {TR} ms and best Gd = {Gd:.1f} mM.')"
   ]
  }
 ],
 "metadata": {
  "kernelspec": {
   "display_name": "Python 3 (ipykernel)",
   "language": "python",
   "name": "python3"
  },
  "language_info": {
   "codemirror_mode": {
    "name": "ipython",
    "version": 3
   },
   "file_extension": ".py",
   "mimetype": "text/x-python",
   "name": "python",
   "nbconvert_exporter": "python",
   "pygments_lexer": "ipython3",
   "version": "3.7.1"
  }
 },
 "nbformat": 4,
 "nbformat_minor": 5
}
